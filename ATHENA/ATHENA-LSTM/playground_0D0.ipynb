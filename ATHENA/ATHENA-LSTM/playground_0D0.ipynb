{
 "cells": [
  {
   "cell_type": "code",
   "execution_count": null,
   "outputs": [],
   "source": [
    "import numpy as np\n",
    "from sklearn.preprocessing import MinMaxScaler\n",
    "import pandas as pd\n",
    "import matplotlib.pyplot as plt\n",
    "import seaborn as sns\n",
    "import tensorflow as tf\n",
    "from keras.layers import Input, Dropout, Dense, LSTM, TimeDistributed, RepeatVector\n",
    "from keras.models import Model\n",
    "from keras import regularizers\n",
    "from sklearn.metrics import recall_score, confusion_matrix, roc_curve, auc, f1_score, precision_score\n",
    "import numpy as np\n",
    "import random\n",
    "\n",
    "\n",
    "tf.random.set_seed(42)\n",
    "np.random.seed(42)\n",
    "random.seed(42)\n",
    "\n",
    "data = pd.read_csv('data/all/train/0D0.csv')\n",
    "valid_data = pd.read_csv('data/all/validation/0D0_3.csv')\n",
    "\n",
    "time_series = data['Time'].values.reshape(-1, 1)\n",
    "\n",
    "time_intervals = np.diff(data['Time'])\n",
    "\n",
    "scaler = MinMaxScaler()\n",
    "# normalized_intervals = scaler.fit_transform(time_intervals.reshape(-1, 1))\n",
    "normalized_intervals = time_intervals.reshape(-1, 1)"
   ],
   "metadata": {
    "collapsed": false,
    "pycharm": {
     "name": "#%%\n"
    }
   }
  },
  {
   "cell_type": "code",
   "execution_count": null,
   "metadata": {},
   "outputs": [],
   "source": [
    "def create_dataset(data, timesteps):\n",
    "    X = []\n",
    "    for i in range(len(data) - timesteps):\n",
    "        X.append(data[i:i+timesteps])\n",
    "    return np.array(X)\n",
    "\n",
    "timesteps = 1\n",
    "X_train = create_dataset(normalized_intervals, timesteps)"
   ]
  },
  {
   "cell_type": "code",
   "execution_count": null,
   "metadata": {},
   "outputs": [],
   "source": [
    "def autoencoder_model(X):\n",
    "    inputs = Input(shape=(X.shape[1], X.shape[2]))\n",
    "    L1 = LSTM(16, activation='relu', return_sequences=True, \n",
    "              kernel_regularizer=regularizers.l2(0.00))(inputs)\n",
    "    L2 = LSTM(16, activation='relu', return_sequences=False)(L1)\n",
    "    L3 = RepeatVector(X.shape[1])(L2)\n",
    "    L4 = LSTM(16, activation='relu', return_sequences=True)(L3)\n",
    "    L5 = LSTM(16, activation='relu', return_sequences=True)(L4)\n",
    "    output = TimeDistributed(Dense(1))(L5)  # 修改输出维度为1\n",
    "    model = Model(inputs=inputs, outputs=output)\n",
    "    return model\n",
    "\n",
    "model = autoencoder_model(X_train)\n",
    "model.compile(optimizer='adam', loss='mae')\n",
    "model.summary()"
   ]
  },
  {
   "cell_type": "code",
   "execution_count": null,
   "metadata": {},
   "outputs": [],
   "source": [
    "model.fit(X_train, X_train, epochs=10, batch_size=32, validation_split=0.1)"
   ]
  },
  {
   "cell_type": "code",
   "execution_count": null,
   "metadata": {},
   "outputs": [],
   "source": [
    "predictions = model.predict(X_train)\n",
    "\n",
    "# predict_y = predictions[:, 9, :]\n",
    "predict_y = predictions[:, 0, :]"
   ]
  },
  {
   "cell_type": "code",
   "execution_count": null,
   "metadata": {},
   "outputs": [],
   "source": [
    "train_error = np.abs(predict_y - X_train[:, 0, :])\n",
    "train_error.shape"
   ]
  },
  {
   "cell_type": "code",
   "execution_count": null,
   "metadata": {},
   "outputs": [],
   "source": [
    "valid_data = pd.read_csv('data/all/validation/0D0_3.csv')\n",
    "valid_intervals = valid_data['Time'].diff().dropna()\n",
    "case_numbers = valid_data.index[1:].values\n",
    "valid_intervals\n",
    "\n",
    "np.diff(valid_data['Time']).mean()"
   ]
  },
  {
   "cell_type": "code",
   "execution_count": null,
   "metadata": {},
   "outputs": [],
   "source": [
    "predictions.shape\n",
    "\n",
    "valid_intervals"
   ]
  },
  {
   "cell_type": "code",
   "execution_count": null,
   "metadata": {},
   "outputs": [],
   "source": [
    "abnormals = []\n",
    "is_attack_predicted = []\n",
    "tmp_len = 0\n",
    "for i in range(len(valid_intervals)):\n",
    "    # thr = predict_y.reshape(-1)[i] - 10 * np.mean(train_error)\n",
    "    thr = predict_y.reshape(-1)[i] - 3 * np.std(predict_y.reshape(-1))\n",
    "    value = valid_intervals.values[i]\n",
    "    if tmp_len != 0:\n",
    "        value += tmp_len\n",
    "        tmp_len = 0\n",
    "    if value < thr:\n",
    "        abnormals.append(case_numbers[i])\n",
    "        is_attack_predicted.append(1)\n",
    "        tmp_len = valid_intervals.values[i]\n",
    "    else:\n",
    "        is_attack_predicted.append(0)\n",
    "\n",
    "print(len(abnormals))"
   ]
  },
  {
   "cell_type": "code",
   "execution_count": null,
   "metadata": {},
   "outputs": [],
   "source": [
    "valid_data['is_attack'] = valid_data['Label'].apply(lambda x: 0 if x == 'Normal' else 1)"
   ]
  },
  {
   "cell_type": "code",
   "execution_count": null,
   "metadata": {},
   "outputs": [],
   "source": [
    "valid_data['is_attack'].sum()"
   ]
  },
  {
   "cell_type": "code",
   "execution_count": null,
   "metadata": {
    "scrolled": true
   },
   "outputs": [],
   "source": [
    "is_attack_actual = valid_data['is_attack'].values[1:] # 对其处理数据时的索引差异\n",
    "\n",
    "conf_matrix = confusion_matrix(is_attack_actual, is_attack_predicted)\n",
    "print(\"混淆矩阵:\")\n",
    "print(conf_matrix)\n",
    "\n",
    "f1 = f1_score(is_attack_actual, is_attack_predicted)\n",
    "print(f\"F1 分数: {f1}\")\n",
    "\n",
    "recall = recall_score(is_attack_actual, is_attack_predicted)\n",
    "print(f\"召回率: {recall}\")\n",
    "\n",
    "accuracy = precision_score(is_attack_actual, is_attack_predicted)\n",
    "print(f\"准确率: {accuracy}\")\n",
    "\n",
    "precision = precision_score(is_attack_actual, is_attack_predicted)\n",
    "print(f\"精确率 (Precision): {precision}\")"
   ]
  },
  {
   "cell_type": "code",
   "execution_count": null,
   "metadata": {},
   "outputs": [],
   "source": [
    "is_attack = valid_data['is_attack'].values\n",
    "\n",
    "plt.figure(figsize=(12, 6))\n",
    "plt.plot(valid_data['Time'].diff(), label='Time Series', color='blue', alpha=0.2)\n",
    "\n",
    "attack_indices = np.where(is_attack == 1)[0]\n",
    "plt.scatter(attack_indices, valid_data['Time'].diff()[attack_indices], color='red', label='Attack', s=10, alpha=0.2)\n",
    "\n",
    "plt.title('0D0: Time Series with Attack Points')\n",
    "plt.xlabel('Index')\n",
    "plt.ylabel('Time')\n",
    "plt.legend()\n",
    "\n",
    "plt.show()"
   ]
  },
  {
   "cell_type": "code",
   "execution_count": null,
   "metadata": {},
   "outputs": [],
   "source": [
    "plt.figure(figsize=(8, 6))\n",
    "sns.heatmap(conf_matrix, annot=True, fmt='d', cmap='Blues', xticklabels=['No Attack', 'Attack'], yticklabels=['No Attack', 'Attack'])\n",
    "plt.xlabel('Predicted')\n",
    "plt.ylabel('Actual')\n",
    "plt.title('Confusion Matrix')\n",
    "plt.show()"
   ]
  },
  {
   "cell_type": "code",
   "execution_count": null,
   "metadata": {},
   "outputs": [],
   "source": [
    "fpr, tpr, _ = roc_curve(is_attack_actual, is_attack_predicted)\n",
    "roc_auc = auc(fpr, tpr)\n",
    "\n",
    "plt.figure()\n",
    "plt.plot(fpr, tpr, color='darkorange', lw=2, label='ROC curve (area = %0.2f)' % roc_auc)\n",
    "plt.plot([0, 1], [0, 1], color='navy', lw=2, linestyle='--')\n",
    "plt.xlim([0.0, 1.0])\n",
    "plt.ylim([0.0, 1.05])\n",
    "plt.xlabel('False Positive Rate')\n",
    "plt.ylabel('True Positive Rate')\n",
    "plt.title('Receiver Operating Characteristic (ROC)')\n",
    "plt.legend(loc=\"lower right\")\n",
    "plt.show()\n",
    "\n",
    "print(f\"Accuracy: {accuracy}\")\n",
    "print(f\"Recall: {recall}\")\n",
    "print(f\"Confusion Matrix:\\n{conf_matrix}\")"
   ]
  }
 ],
 "metadata": {
  "kernelspec": {
   "display_name": "Python 3 (ipykernel)",
   "language": "python",
   "name": "python3"
  },
  "language_info": {
   "codemirror_mode": {
    "name": "ipython",
    "version": 3
   },
   "file_extension": ".py",
   "mimetype": "text/x-python",
   "name": "python",
   "nbconvert_exporter": "python",
   "pygments_lexer": "ipython3",
   "version": "3.9.7"
  }
 },
 "nbformat": 4,
 "nbformat_minor": 4
}